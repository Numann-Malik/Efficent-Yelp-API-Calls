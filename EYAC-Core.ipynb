{
 "cells": [
  {
   "cell_type": "markdown",
   "id": "f854d37b",
   "metadata": {},
   "source": [
    "- We will use the Yelp API to search our favorite city for a cuisine type of our choice.\n",
    "- Extract all of the results from our search and compile them into one dataframe using a for loop."
   ]
  },
  {
   "cell_type": "code",
   "execution_count": 1,
   "id": "8018ac4c",
   "metadata": {},
   "outputs": [],
   "source": [
    "# Standard Imports\n",
    "import numpy as np\n",
    "import pandas as pd\n",
    "import matplotlib.pyplot as plt\n",
    "import seaborn as sns\n",
    "# Additional Imports\n",
    "import os, json, math, time\n",
    "from yelpapi import YelpAPI\n",
    "from tqdm.notebook import tqdm_notebook"
   ]
  },
  {
   "cell_type": "code",
   "execution_count": 2,
   "id": "ca0b8f18",
   "metadata": {},
   "outputs": [],
   "source": [
    "# Load API Credentials\n",
    "with open('/Users/nusratjahan/.secret/yelp_api.json') as f:\n",
    "    login = json.load(f)\n",
    "yelp_api = YelpAPI(login['api-key'], timeout_s=5.0)"
   ]
  },
  {
   "cell_type": "code",
   "execution_count": 3,
   "id": "c7f4dde3",
   "metadata": {},
   "outputs": [],
   "source": [
    "# set our API call parameters \n",
    "LOCATION = 'Orlando,FL'\n",
    "TERM = 'Biryani'"
   ]
  },
  {
   "cell_type": "code",
   "execution_count": 4,
   "id": "772fe496",
   "metadata": {},
   "outputs": [
    {
     "data": {
      "text/plain": [
       "'Data/FL_biryani.json'"
      ]
     },
     "execution_count": 4,
     "metadata": {},
     "output_type": "execute_result"
    }
   ],
   "source": [
    "# Specifying JSON_FILE filename (can include a folder)\n",
    "# include the search terms in the filename\n",
    "JSON_FILE = \"Data/FL_biryani.json\"\n",
    "JSON_FILE"
   ]
  },
  {
   "cell_type": "code",
   "execution_count": 5,
   "id": "c1478a46",
   "metadata": {},
   "outputs": [
    {
     "name": "stdout",
     "output_type": "stream",
     "text": [
      "[i] Data/FL_biryani.json not found. Saving empty list to file.\n"
     ]
    }
   ],
   "source": [
    "## Check if JSON_FILE exists\n",
    "file_exists = os.path.isfile(JSON_FILE)\n",
    "## If it does not exist: \n",
    "if file_exists == False:\n",
    "    \n",
    "    ## CREATE ANY NEEDED FOLDERS\n",
    "    # Get the Folder Name only\n",
    "    folder = os.path.dirname(JSON_FILE)\n",
    "    ## If JSON_FILE included a folder:\n",
    "    if len(folder)>0:\n",
    "        # create the folder\n",
    "        os.makedirs(folder,exist_ok=True)\n",
    "        \n",
    "        \n",
    "    ## INFORM USER AND SAVE EMPTY LIST\n",
    "    print(f'[i] {JSON_FILE} not found. Saving empty list to file.')\n",
    "    \n",
    "    \n",
    "    # save an empty list\n",
    "    with open(JSON_FILE,'w') as f:\n",
    "        json.dump([],f)  \n",
    "# If it exists, inform user\n",
    "else:\n",
    "    print(f\"[i] {JSON_FILE} already exists.\")"
   ]
  },
  {
   "cell_type": "code",
   "execution_count": 6,
   "id": "60e7b3aa",
   "metadata": {},
   "outputs": [
    {
     "name": "stdout",
     "output_type": "stream",
     "text": [
      "- 0 previous results found.\n"
     ]
    }
   ],
   "source": [
    "## Load previous results and use len of results for offset\n",
    "with open(JSON_FILE,'r') as f:\n",
    "    previous_results = json.load(f)\n",
    "    \n",
    "## set offset based on previous results\n",
    "n_results = len(previous_results)\n",
    "print(f'- {n_results} previous results found.')"
   ]
  },
  {
   "cell_type": "code",
   "execution_count": 7,
   "id": "33af9309",
   "metadata": {},
   "outputs": [
    {
     "data": {
      "text/plain": [
       "dict_keys(['businesses', 'total', 'region'])"
      ]
     },
     "execution_count": 7,
     "metadata": {},
     "output_type": "execute_result"
    }
   ],
   "source": [
    "# use our yelp_api variable's search_query method to perform our API call\n",
    "results = yelp_api.search_query(location=LOCATION,\n",
    "                                term=TERM,\n",
    "                               offset=n_results)\n",
    "results.keys()"
   ]
  },
  {
   "cell_type": "code",
   "execution_count": 8,
   "id": "b94f1931",
   "metadata": {},
   "outputs": [
    {
     "data": {
      "text/plain": [
       "77"
      ]
     },
     "execution_count": 8,
     "metadata": {},
     "output_type": "execute_result"
    }
   ],
   "source": [
    "## How many results total?\n",
    "total_results = results['total']\n",
    "total_results"
   ]
  },
  {
   "cell_type": "code",
   "execution_count": 9,
   "id": "f2fcf4c1",
   "metadata": {},
   "outputs": [
    {
     "data": {
      "text/plain": [
       "20"
      ]
     },
     "execution_count": 9,
     "metadata": {},
     "output_type": "execute_result"
    }
   ],
   "source": [
    "## How many did we get the details for?\n",
    "results_per_page = len(results['businesses'])\n",
    "results_per_page"
   ]
  },
  {
   "cell_type": "code",
   "execution_count": 10,
   "id": "2533965b",
   "metadata": {},
   "outputs": [
    {
     "data": {
      "text/plain": [
       "4"
      ]
     },
     "execution_count": 10,
     "metadata": {},
     "output_type": "execute_result"
    }
   ],
   "source": [
    "# Import additional packages for controlling our loop\n",
    "import time, math\n",
    "# Use math.ceil to round up for the total number of pages of results.\n",
    "n_pages = math.ceil((results['total']-n_results)/ results_per_page)\n",
    "n_pages"
   ]
  },
  {
   "cell_type": "code",
   "execution_count": 11,
   "id": "62cb902e",
   "metadata": {},
   "outputs": [],
   "source": [
    "# join new results with old list with extend and save to file\n",
    "previous_results.extend(results['businesses'])  \n",
    "with open(JSON_FILE,'w') as f:\n",
    "     json.dump(previous_results,f)"
   ]
  },
  {
   "cell_type": "code",
   "execution_count": 12,
   "id": "e9c4e2d2",
   "metadata": {},
   "outputs": [
    {
     "data": {
      "application/vnd.jupyter.widget-view+json": {
       "model_id": "82fd6074a73e4bf9b7a4bbc7ebb830e1",
       "version_major": 2,
       "version_minor": 0
      },
      "text/plain": [
       "  0%|          | 0/4 [00:00<?, ?it/s]"
      ]
     },
     "metadata": {},
     "output_type": "display_data"
    }
   ],
   "source": [
    "from tqdm.notebook import tqdm_notebook\n",
    "import time\n",
    "for i in tqdm_notebook(range(n_pages)):\n",
    "    # adds 200 ms pause\n",
    "    time.sleep(.2)"
   ]
  },
  {
   "cell_type": "code",
   "execution_count": 13,
   "id": "b09f306d",
   "metadata": {},
   "outputs": [
    {
     "data": {
      "application/vnd.jupyter.widget-view+json": {
       "model_id": "828547909316434fbffb050ec08829a8",
       "version_major": 2,
       "version_minor": 0
      },
      "text/plain": [
       "  0%|          | 0/4 [00:00<?, ?it/s]"
      ]
     },
     "metadata": {},
     "output_type": "display_data"
    }
   ],
   "source": [
    "for i in tqdm_notebook( range(1,n_pages+1)):\n",
    "    \n",
    "    ## Read in results in progress file and check the length\n",
    "    with open(JSON_FILE, 'r') as f:\n",
    "        previous_results = json.load(f)\n",
    "    ## save number of results for to use as offset\n",
    "    n_results = len(previous_results)\n",
    "    ## use n_results as the OFFSET \n",
    "    results = yelp_api.search_query(location=LOCATION,\n",
    "                                    term=TERM, \n",
    "                                    offset=n_results)\n",
    "    \n",
    "    ## append new results and save to file\n",
    "    previous_results.extend(results['businesses'])\n",
    "    \n",
    "    with open(JSON_FILE,'w') as f:\n",
    "        json.dump(previous_results,f)\n",
    "    \n",
    "    # add a 200ms pause\n",
    "    time.sleep(.2)"
   ]
  },
  {
   "cell_type": "code",
   "execution_count": 14,
   "id": "761f5526",
   "metadata": {},
   "outputs": [
    {
     "data": {
      "text/html": [
       "<div>\n",
       "<style scoped>\n",
       "    .dataframe tbody tr th:only-of-type {\n",
       "        vertical-align: middle;\n",
       "    }\n",
       "\n",
       "    .dataframe tbody tr th {\n",
       "        vertical-align: top;\n",
       "    }\n",
       "\n",
       "    .dataframe thead th {\n",
       "        text-align: right;\n",
       "    }\n",
       "</style>\n",
       "<table border=\"1\" class=\"dataframe\">\n",
       "  <thead>\n",
       "    <tr style=\"text-align: right;\">\n",
       "      <th></th>\n",
       "      <th>id</th>\n",
       "      <th>alias</th>\n",
       "      <th>name</th>\n",
       "      <th>image_url</th>\n",
       "      <th>is_closed</th>\n",
       "      <th>url</th>\n",
       "      <th>review_count</th>\n",
       "      <th>categories</th>\n",
       "      <th>rating</th>\n",
       "      <th>coordinates</th>\n",
       "      <th>transactions</th>\n",
       "      <th>price</th>\n",
       "      <th>location</th>\n",
       "      <th>phone</th>\n",
       "      <th>display_phone</th>\n",
       "      <th>distance</th>\n",
       "    </tr>\n",
       "  </thead>\n",
       "  <tbody>\n",
       "    <tr>\n",
       "      <th>0</th>\n",
       "      <td>tSNA_ajn-xpyYP2pm9XvOg</td>\n",
       "      <td>bawarchi-biryanis-orlando-4</td>\n",
       "      <td>Bawarchi Biryanis</td>\n",
       "      <td>https://s3-media4.fl.yelpcdn.com/bphoto/aWUobC...</td>\n",
       "      <td>False</td>\n",
       "      <td>https://www.yelp.com/biz/bawarchi-biryanis-orl...</td>\n",
       "      <td>120</td>\n",
       "      <td>[{'alias': 'indpak', 'title': 'Indian'}]</td>\n",
       "      <td>3.5</td>\n",
       "      <td>{'latitude': 28.4613502, 'longitude': -81.46755}</td>\n",
       "      <td>[delivery]</td>\n",
       "      <td>$$</td>\n",
       "      <td>{'address1': '6315 International Dr', 'address...</td>\n",
       "      <td>14073687938</td>\n",
       "      <td>(407) 368-7938</td>\n",
       "      <td>11326.875787</td>\n",
       "    </tr>\n",
       "    <tr>\n",
       "      <th>1</th>\n",
       "      <td>hLmDfRdj2LYiHHVHnw5C-g</td>\n",
       "      <td>five-star-south-indian-food-and-catering-orlando</td>\n",
       "      <td>Five Star South Indian Food &amp; Catering</td>\n",
       "      <td>https://s3-media3.fl.yelpcdn.com/bphoto/DO-Vfy...</td>\n",
       "      <td>False</td>\n",
       "      <td>https://www.yelp.com/biz/five-star-south-india...</td>\n",
       "      <td>48</td>\n",
       "      <td>[{'alias': 'indpak', 'title': 'Indian'}, {'ali...</td>\n",
       "      <td>4.5</td>\n",
       "      <td>{'latitude': 28.424644, 'longitude': -81.406523}</td>\n",
       "      <td>[delivery]</td>\n",
       "      <td>$</td>\n",
       "      <td>{'address1': '9404 S Orange Blossom Trl', 'add...</td>\n",
       "      <td>14079305043</td>\n",
       "      <td>(407) 930-5043</td>\n",
       "      <td>8082.852383</td>\n",
       "    </tr>\n",
       "    <tr>\n",
       "      <th>2</th>\n",
       "      <td>DDvLLp9cT1m0U8SN-DYIKA</td>\n",
       "      <td>saffron-indian-cuisine-orlando-2</td>\n",
       "      <td>Saffron Indian Cuisine</td>\n",
       "      <td>https://s3-media3.fl.yelpcdn.com/bphoto/v2lZHU...</td>\n",
       "      <td>False</td>\n",
       "      <td>https://www.yelp.com/biz/saffron-indian-cuisin...</td>\n",
       "      <td>1019</td>\n",
       "      <td>[{'alias': 'indpak', 'title': 'Indian'}, {'ali...</td>\n",
       "      <td>4.5</td>\n",
       "      <td>{'latitude': 28.4485988912675, 'longitude': -8...</td>\n",
       "      <td>[pickup, delivery]</td>\n",
       "      <td>$$</td>\n",
       "      <td>{'address1': '7724 W Sand Lake Rd', 'address2'...</td>\n",
       "      <td>14076748899</td>\n",
       "      <td>(407) 674-8899</td>\n",
       "      <td>13653.865922</td>\n",
       "    </tr>\n",
       "    <tr>\n",
       "      <th>3</th>\n",
       "      <td>n4diWKcRvAFctwdRA6IPMg</td>\n",
       "      <td>ahmed-indian-restaurant-ucf-orlando</td>\n",
       "      <td>Ahmed Indian Restaurant UCF</td>\n",
       "      <td>https://s3-media1.fl.yelpcdn.com/bphoto/RD99V6...</td>\n",
       "      <td>False</td>\n",
       "      <td>https://www.yelp.com/biz/ahmed-indian-restaura...</td>\n",
       "      <td>166</td>\n",
       "      <td>[{'alias': 'indpak', 'title': 'Indian'}, {'ali...</td>\n",
       "      <td>4.5</td>\n",
       "      <td>{'latitude': 28.596572, 'longitude': -81.243464}</td>\n",
       "      <td>[pickup, delivery]</td>\n",
       "      <td>$$</td>\n",
       "      <td>{'address1': '10042 University Blvd', 'address...</td>\n",
       "      <td>14075747177</td>\n",
       "      <td>(407) 574-7177</td>\n",
       "      <td>16803.380678</td>\n",
       "    </tr>\n",
       "    <tr>\n",
       "      <th>4</th>\n",
       "      <td>cxVsg05tnysqe03tudgkTQ</td>\n",
       "      <td>tabla-indian-restaurant-orlando-orlando</td>\n",
       "      <td>Tabla Indian Restaurant - Orlando</td>\n",
       "      <td>https://s3-media2.fl.yelpcdn.com/bphoto/JL38Fo...</td>\n",
       "      <td>False</td>\n",
       "      <td>https://www.yelp.com/biz/tabla-indian-restaura...</td>\n",
       "      <td>1805</td>\n",
       "      <td>[{'alias': 'indpak', 'title': 'Indian'}, {'ali...</td>\n",
       "      <td>4.0</td>\n",
       "      <td>{'latitude': 28.4771443, 'longitude': -81.4549...</td>\n",
       "      <td>[pickup, delivery]</td>\n",
       "      <td>$$</td>\n",
       "      <td>{'address1': '5847 Grand National Dr', 'addres...</td>\n",
       "      <td>14072489400</td>\n",
       "      <td>(407) 248-9400</td>\n",
       "      <td>9894.930531</td>\n",
       "    </tr>\n",
       "    <tr>\n",
       "      <th>...</th>\n",
       "      <td>...</td>\n",
       "      <td>...</td>\n",
       "      <td>...</td>\n",
       "      <td>...</td>\n",
       "      <td>...</td>\n",
       "      <td>...</td>\n",
       "      <td>...</td>\n",
       "      <td>...</td>\n",
       "      <td>...</td>\n",
       "      <td>...</td>\n",
       "      <td>...</td>\n",
       "      <td>...</td>\n",
       "      <td>...</td>\n",
       "      <td>...</td>\n",
       "      <td>...</td>\n",
       "      <td>...</td>\n",
       "    </tr>\n",
       "    <tr>\n",
       "      <th>69</th>\n",
       "      <td>nbD4hcCWGT3VgL0KkQ70Jg</td>\n",
       "      <td>taj-punjabi-orlando-2</td>\n",
       "      <td>Taj Punjabi</td>\n",
       "      <td>https://s3-media2.fl.yelpcdn.com/bphoto/FeYnZI...</td>\n",
       "      <td>False</td>\n",
       "      <td>https://www.yelp.com/biz/taj-punjabi-orlando-2...</td>\n",
       "      <td>88</td>\n",
       "      <td>[{'alias': 'indpak', 'title': 'Indian'}, {'ali...</td>\n",
       "      <td>2.5</td>\n",
       "      <td>{'latitude': 28.4558851, 'longitude': -81.4701...</td>\n",
       "      <td>[pickup, delivery]</td>\n",
       "      <td>$$</td>\n",
       "      <td>{'address1': '6524 Carrier Dr', 'address2': ''...</td>\n",
       "      <td>14073525510</td>\n",
       "      <td>(407) 352-5510</td>\n",
       "      <td>11703.248972</td>\n",
       "    </tr>\n",
       "    <tr>\n",
       "      <th>70</th>\n",
       "      <td>HONsErAtIRzPuc0ekGGyRQ</td>\n",
       "      <td>taj-mahal-great-indian-restaurant-orlando</td>\n",
       "      <td>Taj Mahal Great Indian Restaurant</td>\n",
       "      <td>https://s3-media1.fl.yelpcdn.com/bphoto/gMct5h...</td>\n",
       "      <td>False</td>\n",
       "      <td>https://www.yelp.com/biz/taj-mahal-great-india...</td>\n",
       "      <td>210</td>\n",
       "      <td>[{'alias': 'indpak', 'title': 'Indian'}]</td>\n",
       "      <td>3.0</td>\n",
       "      <td>{'latitude': 28.440695143838717, 'longitude': ...</td>\n",
       "      <td>[pickup, delivery]</td>\n",
       "      <td>$$</td>\n",
       "      <td>{'address1': '8554 International Dr', 'address...</td>\n",
       "      <td>14072486565</td>\n",
       "      <td>(407) 248-6565</td>\n",
       "      <td>12330.528506</td>\n",
       "    </tr>\n",
       "    <tr>\n",
       "      <th>71</th>\n",
       "      <td>Qlkkw20FyMoWqNQk9t9S0w</td>\n",
       "      <td>cedars-restaurant-orlando</td>\n",
       "      <td>Cedar's Restaurant</td>\n",
       "      <td>https://s3-media4.fl.yelpcdn.com/bphoto/BgVFQ5...</td>\n",
       "      <td>False</td>\n",
       "      <td>https://www.yelp.com/biz/cedars-restaurant-orl...</td>\n",
       "      <td>279</td>\n",
       "      <td>[{'alias': 'mideastern', 'title': 'Middle East...</td>\n",
       "      <td>4.0</td>\n",
       "      <td>{'latitude': 28.448556, 'longitude': -81.488213}</td>\n",
       "      <td>[pickup, delivery]</td>\n",
       "      <td>$$</td>\n",
       "      <td>{'address1': '7732 W Sand Lake Rd', 'address2'...</td>\n",
       "      <td>14073516000</td>\n",
       "      <td>(407) 351-6000</td>\n",
       "      <td>13617.807520</td>\n",
       "    </tr>\n",
       "    <tr>\n",
       "      <th>72</th>\n",
       "      <td>paMnCqJmvz8zA2D7bHXf8A</td>\n",
       "      <td>new-taste-of-india-kissimmee</td>\n",
       "      <td>New taste of India</td>\n",
       "      <td></td>\n",
       "      <td>False</td>\n",
       "      <td>https://www.yelp.com/biz/new-taste-of-india-ki...</td>\n",
       "      <td>1</td>\n",
       "      <td>[{'alias': 'indpak', 'title': 'Indian'}]</td>\n",
       "      <td>4.0</td>\n",
       "      <td>{'latitude': 28.3335922875016, 'longitude': -8...</td>\n",
       "      <td>[]</td>\n",
       "      <td>NaN</td>\n",
       "      <td>{'address1': '4985 W Irlo Bronson Memorial Hwy...</td>\n",
       "      <td>14075079099</td>\n",
       "      <td>(407) 507-9099</td>\n",
       "      <td>20585.859310</td>\n",
       "    </tr>\n",
       "    <tr>\n",
       "      <th>73</th>\n",
       "      <td>BBaoO-Bjnc2lI28MoTEf0Q</td>\n",
       "      <td>india-palace-restaurant-orlando</td>\n",
       "      <td>India Palace Restaurant</td>\n",
       "      <td>https://s3-media1.fl.yelpcdn.com/bphoto/8NmqDC...</td>\n",
       "      <td>False</td>\n",
       "      <td>https://www.yelp.com/biz/india-palace-restaura...</td>\n",
       "      <td>73</td>\n",
       "      <td>[{'alias': 'indpak', 'title': 'Indian'}, {'ali...</td>\n",
       "      <td>3.0</td>\n",
       "      <td>{'latitude': 28.384121, 'longitude': -81.500509}</td>\n",
       "      <td>[pickup, delivery]</td>\n",
       "      <td>$$</td>\n",
       "      <td>{'address1': '8530 Palm Pkwy', 'address2': '',...</td>\n",
       "      <td>14072382322</td>\n",
       "      <td>(407) 238-2322</td>\n",
       "      <td>17916.908698</td>\n",
       "    </tr>\n",
       "  </tbody>\n",
       "</table>\n",
       "<p>74 rows × 16 columns</p>\n",
       "</div>"
      ],
      "text/plain": [
       "                        id                                             alias  \\\n",
       "0   tSNA_ajn-xpyYP2pm9XvOg                       bawarchi-biryanis-orlando-4   \n",
       "1   hLmDfRdj2LYiHHVHnw5C-g  five-star-south-indian-food-and-catering-orlando   \n",
       "2   DDvLLp9cT1m0U8SN-DYIKA                  saffron-indian-cuisine-orlando-2   \n",
       "3   n4diWKcRvAFctwdRA6IPMg               ahmed-indian-restaurant-ucf-orlando   \n",
       "4   cxVsg05tnysqe03tudgkTQ           tabla-indian-restaurant-orlando-orlando   \n",
       "..                     ...                                               ...   \n",
       "69  nbD4hcCWGT3VgL0KkQ70Jg                             taj-punjabi-orlando-2   \n",
       "70  HONsErAtIRzPuc0ekGGyRQ         taj-mahal-great-indian-restaurant-orlando   \n",
       "71  Qlkkw20FyMoWqNQk9t9S0w                         cedars-restaurant-orlando   \n",
       "72  paMnCqJmvz8zA2D7bHXf8A                      new-taste-of-india-kissimmee   \n",
       "73  BBaoO-Bjnc2lI28MoTEf0Q                   india-palace-restaurant-orlando   \n",
       "\n",
       "                                      name  \\\n",
       "0                        Bawarchi Biryanis   \n",
       "1   Five Star South Indian Food & Catering   \n",
       "2                   Saffron Indian Cuisine   \n",
       "3              Ahmed Indian Restaurant UCF   \n",
       "4        Tabla Indian Restaurant - Orlando   \n",
       "..                                     ...   \n",
       "69                             Taj Punjabi   \n",
       "70       Taj Mahal Great Indian Restaurant   \n",
       "71                      Cedar's Restaurant   \n",
       "72                      New taste of India   \n",
       "73                 India Palace Restaurant   \n",
       "\n",
       "                                            image_url  is_closed  \\\n",
       "0   https://s3-media4.fl.yelpcdn.com/bphoto/aWUobC...      False   \n",
       "1   https://s3-media3.fl.yelpcdn.com/bphoto/DO-Vfy...      False   \n",
       "2   https://s3-media3.fl.yelpcdn.com/bphoto/v2lZHU...      False   \n",
       "3   https://s3-media1.fl.yelpcdn.com/bphoto/RD99V6...      False   \n",
       "4   https://s3-media2.fl.yelpcdn.com/bphoto/JL38Fo...      False   \n",
       "..                                                ...        ...   \n",
       "69  https://s3-media2.fl.yelpcdn.com/bphoto/FeYnZI...      False   \n",
       "70  https://s3-media1.fl.yelpcdn.com/bphoto/gMct5h...      False   \n",
       "71  https://s3-media4.fl.yelpcdn.com/bphoto/BgVFQ5...      False   \n",
       "72                                                         False   \n",
       "73  https://s3-media1.fl.yelpcdn.com/bphoto/8NmqDC...      False   \n",
       "\n",
       "                                                  url  review_count  \\\n",
       "0   https://www.yelp.com/biz/bawarchi-biryanis-orl...           120   \n",
       "1   https://www.yelp.com/biz/five-star-south-india...            48   \n",
       "2   https://www.yelp.com/biz/saffron-indian-cuisin...          1019   \n",
       "3   https://www.yelp.com/biz/ahmed-indian-restaura...           166   \n",
       "4   https://www.yelp.com/biz/tabla-indian-restaura...          1805   \n",
       "..                                                ...           ...   \n",
       "69  https://www.yelp.com/biz/taj-punjabi-orlando-2...            88   \n",
       "70  https://www.yelp.com/biz/taj-mahal-great-india...           210   \n",
       "71  https://www.yelp.com/biz/cedars-restaurant-orl...           279   \n",
       "72  https://www.yelp.com/biz/new-taste-of-india-ki...             1   \n",
       "73  https://www.yelp.com/biz/india-palace-restaura...            73   \n",
       "\n",
       "                                           categories  rating  \\\n",
       "0            [{'alias': 'indpak', 'title': 'Indian'}]     3.5   \n",
       "1   [{'alias': 'indpak', 'title': 'Indian'}, {'ali...     4.5   \n",
       "2   [{'alias': 'indpak', 'title': 'Indian'}, {'ali...     4.5   \n",
       "3   [{'alias': 'indpak', 'title': 'Indian'}, {'ali...     4.5   \n",
       "4   [{'alias': 'indpak', 'title': 'Indian'}, {'ali...     4.0   \n",
       "..                                                ...     ...   \n",
       "69  [{'alias': 'indpak', 'title': 'Indian'}, {'ali...     2.5   \n",
       "70           [{'alias': 'indpak', 'title': 'Indian'}]     3.0   \n",
       "71  [{'alias': 'mideastern', 'title': 'Middle East...     4.0   \n",
       "72           [{'alias': 'indpak', 'title': 'Indian'}]     4.0   \n",
       "73  [{'alias': 'indpak', 'title': 'Indian'}, {'ali...     3.0   \n",
       "\n",
       "                                          coordinates        transactions  \\\n",
       "0    {'latitude': 28.4613502, 'longitude': -81.46755}          [delivery]   \n",
       "1    {'latitude': 28.424644, 'longitude': -81.406523}          [delivery]   \n",
       "2   {'latitude': 28.4485988912675, 'longitude': -8...  [pickup, delivery]   \n",
       "3    {'latitude': 28.596572, 'longitude': -81.243464}  [pickup, delivery]   \n",
       "4   {'latitude': 28.4771443, 'longitude': -81.4549...  [pickup, delivery]   \n",
       "..                                                ...                 ...   \n",
       "69  {'latitude': 28.4558851, 'longitude': -81.4701...  [pickup, delivery]   \n",
       "70  {'latitude': 28.440695143838717, 'longitude': ...  [pickup, delivery]   \n",
       "71   {'latitude': 28.448556, 'longitude': -81.488213}  [pickup, delivery]   \n",
       "72  {'latitude': 28.3335922875016, 'longitude': -8...                  []   \n",
       "73   {'latitude': 28.384121, 'longitude': -81.500509}  [pickup, delivery]   \n",
       "\n",
       "   price                                           location        phone  \\\n",
       "0     $$  {'address1': '6315 International Dr', 'address...  14073687938   \n",
       "1      $  {'address1': '9404 S Orange Blossom Trl', 'add...  14079305043   \n",
       "2     $$  {'address1': '7724 W Sand Lake Rd', 'address2'...  14076748899   \n",
       "3     $$  {'address1': '10042 University Blvd', 'address...  14075747177   \n",
       "4     $$  {'address1': '5847 Grand National Dr', 'addres...  14072489400   \n",
       "..   ...                                                ...          ...   \n",
       "69    $$  {'address1': '6524 Carrier Dr', 'address2': ''...  14073525510   \n",
       "70    $$  {'address1': '8554 International Dr', 'address...  14072486565   \n",
       "71    $$  {'address1': '7732 W Sand Lake Rd', 'address2'...  14073516000   \n",
       "72   NaN  {'address1': '4985 W Irlo Bronson Memorial Hwy...  14075079099   \n",
       "73    $$  {'address1': '8530 Palm Pkwy', 'address2': '',...  14072382322   \n",
       "\n",
       "     display_phone      distance  \n",
       "0   (407) 368-7938  11326.875787  \n",
       "1   (407) 930-5043   8082.852383  \n",
       "2   (407) 674-8899  13653.865922  \n",
       "3   (407) 574-7177  16803.380678  \n",
       "4   (407) 248-9400   9894.930531  \n",
       "..             ...           ...  \n",
       "69  (407) 352-5510  11703.248972  \n",
       "70  (407) 248-6565  12330.528506  \n",
       "71  (407) 351-6000  13617.807520  \n",
       "72  (407) 507-9099  20585.859310  \n",
       "73  (407) 238-2322  17916.908698  \n",
       "\n",
       "[74 rows x 16 columns]"
      ]
     },
     "metadata": {},
     "output_type": "display_data"
    }
   ],
   "source": [
    "# load final results\n",
    "final_df = pd.read_json(JSON_FILE)\n",
    "display(final_df)"
   ]
  },
  {
   "cell_type": "code",
   "execution_count": 15,
   "id": "15a3431d",
   "metadata": {},
   "outputs": [
    {
     "data": {
      "text/plain": [
       "0"
      ]
     },
     "execution_count": 15,
     "metadata": {},
     "output_type": "execute_result"
    }
   ],
   "source": [
    "# check for duplicate ID's \n",
    "final_df.duplicated(subset='id').sum()"
   ]
  },
  {
   "cell_type": "code",
   "execution_count": 16,
   "id": "dd342124",
   "metadata": {},
   "outputs": [],
   "source": [
    "# save the final results to a compressed csv\n",
    "final_df.to_csv('Data/FL_biryani.csv.gz', compression='gzip',index=False)"
   ]
  },
  {
   "cell_type": "code",
   "execution_count": null,
   "id": "47bcb209",
   "metadata": {},
   "outputs": [],
   "source": []
  }
 ],
 "metadata": {
  "kernelspec": {
   "display_name": "Python (dojo-env)",
   "language": "python",
   "name": "dojo-env"
  },
  "language_info": {
   "codemirror_mode": {
    "name": "ipython",
    "version": 3
   },
   "file_extension": ".py",
   "mimetype": "text/x-python",
   "name": "python",
   "nbconvert_exporter": "python",
   "pygments_lexer": "ipython3",
   "version": "3.9.15"
  },
  "toc": {
   "base_numbering": 1,
   "nav_menu": {},
   "number_sections": false,
   "sideBar": true,
   "skip_h1_title": false,
   "title_cell": "Table of Contents",
   "title_sidebar": "Contents",
   "toc_cell": false,
   "toc_position": {},
   "toc_section_display": true,
   "toc_window_display": false
  }
 },
 "nbformat": 4,
 "nbformat_minor": 5
}
